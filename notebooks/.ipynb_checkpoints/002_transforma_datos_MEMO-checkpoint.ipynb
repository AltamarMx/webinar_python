{
 "cells": [
  {
   "cell_type": "code",
   "execution_count": 14,
   "metadata": {},
   "outputs": [],
   "source": [
    "import pandas as pd\n",
    "import numpy as np\n",
    "import datetime\n",
    "from iertools.calc import wd \n",
    "# https://github.com/AltamarMx/iertools/blob/main/notebooks/001_calc_CalculateWindDirectionFromUVW.ipynb"
   ]
  },
  {
   "cell_type": "code",
   "execution_count": 2,
   "metadata": {
    "scrolled": false
   },
   "outputs": [
    {
     "data": {
      "text/html": [
       "<div>\n",
       "<style scoped>\n",
       "    .dataframe tbody tr th:only-of-type {\n",
       "        vertical-align: middle;\n",
       "    }\n",
       "\n",
       "    .dataframe tbody tr th {\n",
       "        vertical-align: top;\n",
       "    }\n",
       "\n",
       "    .dataframe thead th {\n",
       "        text-align: right;\n",
       "    }\n",
       "</style>\n",
       "<table border=\"1\" class=\"dataframe\">\n",
       "  <thead>\n",
       "    <tr style=\"text-align: right;\">\n",
       "      <th></th>\n",
       "      <th>u</th>\n",
       "      <th>v</th>\n",
       "      <th>w</th>\n",
       "    </tr>\n",
       "    <tr>\n",
       "      <th>fecha</th>\n",
       "      <th></th>\n",
       "      <th></th>\n",
       "      <th></th>\n",
       "    </tr>\n",
       "  </thead>\n",
       "  <tbody>\n",
       "    <tr>\n",
       "      <th>2022-03-12 15:00:23</th>\n",
       "      <td>-0.38</td>\n",
       "      <td>-0.28</td>\n",
       "      <td>0.16</td>\n",
       "    </tr>\n",
       "    <tr>\n",
       "      <th>2022-03-12 15:00:24</th>\n",
       "      <td>-0.41</td>\n",
       "      <td>-0.30</td>\n",
       "      <td>0.10</td>\n",
       "    </tr>\n",
       "    <tr>\n",
       "      <th>2022-03-12 15:00:25</th>\n",
       "      <td>-0.43</td>\n",
       "      <td>-0.26</td>\n",
       "      <td>0.13</td>\n",
       "    </tr>\n",
       "    <tr>\n",
       "      <th>2022-03-12 15:00:26</th>\n",
       "      <td>-0.39</td>\n",
       "      <td>-0.15</td>\n",
       "      <td>0.14</td>\n",
       "    </tr>\n",
       "    <tr>\n",
       "      <th>2022-03-12 15:00:27</th>\n",
       "      <td>-0.32</td>\n",
       "      <td>-0.01</td>\n",
       "      <td>0.14</td>\n",
       "    </tr>\n",
       "    <tr>\n",
       "      <th>...</th>\n",
       "      <td>...</td>\n",
       "      <td>...</td>\n",
       "      <td>...</td>\n",
       "    </tr>\n",
       "    <tr>\n",
       "      <th>2022-03-12 15:41:34</th>\n",
       "      <td>-0.51</td>\n",
       "      <td>-1.50</td>\n",
       "      <td>0.21</td>\n",
       "    </tr>\n",
       "    <tr>\n",
       "      <th>2022-03-12 15:41:35</th>\n",
       "      <td>-0.41</td>\n",
       "      <td>-1.59</td>\n",
       "      <td>0.19</td>\n",
       "    </tr>\n",
       "    <tr>\n",
       "      <th>2022-03-12 15:41:36</th>\n",
       "      <td>-0.35</td>\n",
       "      <td>-1.71</td>\n",
       "      <td>0.24</td>\n",
       "    </tr>\n",
       "    <tr>\n",
       "      <th>2022-03-12 15:41:37</th>\n",
       "      <td>-0.38</td>\n",
       "      <td>-1.66</td>\n",
       "      <td>0.27</td>\n",
       "    </tr>\n",
       "    <tr>\n",
       "      <th>NaT</th>\n",
       "      <td>NaN</td>\n",
       "      <td>NaN</td>\n",
       "      <td>NaN</td>\n",
       "    </tr>\n",
       "  </tbody>\n",
       "</table>\n",
       "<p>148620 rows × 3 columns</p>\n",
       "</div>"
      ],
      "text/plain": [
       "                        u     v     w\n",
       "fecha                                \n",
       "2022-03-12 15:00:23 -0.38 -0.28  0.16\n",
       "2022-03-12 15:00:24 -0.41 -0.30  0.10\n",
       "2022-03-12 15:00:25 -0.43 -0.26  0.13\n",
       "2022-03-12 15:00:26 -0.39 -0.15  0.14\n",
       "2022-03-12 15:00:27 -0.32 -0.01  0.14\n",
       "...                   ...   ...   ...\n",
       "2022-03-12 15:41:34 -0.51 -1.50  0.21\n",
       "2022-03-12 15:41:35 -0.41 -1.59  0.19\n",
       "2022-03-12 15:41:36 -0.35 -1.71  0.24\n",
       "2022-03-12 15:41:37 -0.38 -1.66  0.27\n",
       "NaT                   NaN   NaN   NaN\n",
       "\n",
       "[148620 rows x 3 columns]"
      ]
     },
     "execution_count": 2,
     "metadata": {},
     "output_type": "execute_result"
    }
   ],
   "source": [
    "f = '../data/u_v_w.csv'\n",
    "uvw = pd.read_csv(f,index_col=0,parse_dates=True)\n",
    "uvw"
   ]
  },
  {
   "cell_type": "code",
   "execution_count": 20,
   "metadata": {},
   "outputs": [
    {
     "data": {
      "text/html": [
       "<div>\n",
       "<style scoped>\n",
       "    .dataframe tbody tr th:only-of-type {\n",
       "        vertical-align: middle;\n",
       "    }\n",
       "\n",
       "    .dataframe tbody tr th {\n",
       "        vertical-align: top;\n",
       "    }\n",
       "\n",
       "    .dataframe thead th {\n",
       "        text-align: right;\n",
       "    }\n",
       "</style>\n",
       "<table border=\"1\" class=\"dataframe\">\n",
       "  <thead>\n",
       "    <tr style=\"text-align: right;\">\n",
       "      <th></th>\n",
       "      <th>u</th>\n",
       "      <th>v</th>\n",
       "      <th>w</th>\n",
       "      <th>ws</th>\n",
       "      <th>wd</th>\n",
       "    </tr>\n",
       "  </thead>\n",
       "  <tbody>\n",
       "    <tr>\n",
       "      <th>2022-10-18 10:13:25.000816</th>\n",
       "      <td>1.0</td>\n",
       "      <td>0.0</td>\n",
       "      <td>0.0</td>\n",
       "      <td>1.0</td>\n",
       "      <td>180.0</td>\n",
       "    </tr>\n",
       "    <tr>\n",
       "      <th>2022-10-18 10:23:25.000816</th>\n",
       "      <td>1.0</td>\n",
       "      <td>0.0</td>\n",
       "      <td>0.0</td>\n",
       "      <td>1.0</td>\n",
       "      <td>180.0</td>\n",
       "    </tr>\n",
       "  </tbody>\n",
       "</table>\n",
       "</div>"
      ],
      "text/plain": [
       "                              u    v    w   ws     wd\n",
       "2022-10-18 10:13:25.000816  1.0  0.0  0.0  1.0  180.0\n",
       "2022-10-18 10:23:25.000816  1.0  0.0  0.0  1.0  180.0"
      ]
     },
     "execution_count": 20,
     "metadata": {},
     "output_type": "execute_result"
    }
   ],
   "source": [
    "hoy    = datetime.datetime.now()\n",
    "indice = pd.date_range(hoy,periods=2,freq=\"10Min\") \n",
    "columnas = [\"u\",\"v\",\"w\"]\n",
    "df = pd.DataFrame(index=indice,columns=columnas)\n",
    "df['v'] = 0.\n",
    "df['u'] = 1.\n",
    "df['w'] = 0.\n",
    "\n",
    "\n",
    "df = wd(df)\n",
    "df"
   ]
  },
  {
   "cell_type": "code",
   "execution_count": null,
   "metadata": {},
   "outputs": [
    {
     "data": {
      "text/plain": [
       "array([<AxesSubplot:xlabel='fecha'>, <AxesSubplot:xlabel='fecha'>,\n",
       "       <AxesSubplot:xlabel='fecha'>, <AxesSubplot:xlabel='fecha'>,\n",
       "       <AxesSubplot:xlabel='fecha'>], dtype=object)"
      ]
     },
     "execution_count": 22,
     "metadata": {},
     "output_type": "execute_result"
    }
   ],
   "source": [
    "datos = formato_estacion(uvw)\n",
    "datos.plot(subplots=True)"
   ]
  },
  {
   "cell_type": "code",
   "execution_count": 6,
   "metadata": {},
   "outputs": [],
   "source": [
    "datos.to_csv('../data/ws_wd.csv')"
   ]
  },
  {
   "cell_type": "code",
   "execution_count": null,
   "metadata": {},
   "outputs": [],
   "source": []
  }
 ],
 "metadata": {
  "kernelspec": {
   "display_name": "Python 3",
   "language": "python",
   "name": "python3"
  },
  "language_info": {
   "codemirror_mode": {
    "name": "ipython",
    "version": 3
   },
   "file_extension": ".py",
   "mimetype": "text/x-python",
   "name": "python",
   "nbconvert_exporter": "python",
   "pygments_lexer": "ipython3",
   "version": "3.9.14"
  }
 },
 "nbformat": 4,
 "nbformat_minor": 4
}
